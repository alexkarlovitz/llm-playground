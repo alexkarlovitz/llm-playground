{
 "cells": [
  {
   "cell_type": "markdown",
   "metadata": {},
   "source": [
    "# Recipe Recommender"
   ]
  },
  {
   "cell_type": "code",
   "execution_count": 1,
   "metadata": {},
   "outputs": [],
   "source": [
    "import getpass\n",
    "import os\n",
    "\n",
    "if not os.environ.get(\"OPENAI_API_KEY\"):\n",
    "  os.environ[\"OPENAI_API_KEY\"] = getpass.getpass(\"Enter API key for OpenAI: \")\n",
    "\n",
    "from openai import OpenAI"
   ]
  },
  {
   "cell_type": "code",
   "execution_count": 4,
   "metadata": {},
   "outputs": [],
   "source": [
    "client = OpenAI()"
   ]
  },
  {
   "cell_type": "code",
   "execution_count": 6,
   "metadata": {},
   "outputs": [],
   "source": [
    "def get_recipe_prompt(ingredients_file, num_recipes=5, cuisine=None) :\n",
    "\n",
    "    messages=[\n",
    "        {\n",
    "            \"role\": \"developer\",\n",
    "            \"content\": f\"You are a helpful assistant.\"\n",
    "        }\n",
    "    ]\n",
    "    \n",
    "    # if cuisine is not None :\n",
    "    #     messages.append(\n",
    "    #         {\n",
    "    #             \"role\": \"system\",\n",
    "    #             \"content\": f\"\"\n",
    "    #         }\n",
    "    #     )\n",
    "\n",
    "    messages.append(\n",
    "        {\n",
    "            \"role\": \"user\",\n",
    "            \"content\": f\"Give me a list of {num_recipes} recipes which use only ingredients contained in the following list: {ingredients_file}\"\n",
    "        }\n",
    "    )\n",
    "    \n",
    "    return messages"
   ]
  },
  {
   "cell_type": "code",
   "execution_count": 7,
   "metadata": {},
   "outputs": [],
   "source": [
    "ingredients_list = [\n",
    "    'apples',\n",
    "    'sugar',\n",
    "    'brown sugar',\n",
    "    'flour',\n",
    "    'cinnamon',\n",
    "    'nutmeg',\n",
    "    'lemon juice',\n",
    "    'egg'\n",
    "]\n",
    "\n",
    "messages = get_recipe_prompt(ingredients_list, num_recipes=2)"
   ]
  },
  {
   "cell_type": "code",
   "execution_count": 8,
   "metadata": {},
   "outputs": [
    {
     "data": {
      "text/plain": [
       "[{'role': 'developer', 'content': 'You are a helpful assistant.'},\n",
       " {'role': 'user',\n",
       "  'content': \"Give me a list of 2 recipes which use only ingredients contained in the following list: ['apples', 'sugar', 'brown sugar', 'flour', 'cinnamon', 'nutmeg', 'lemon juice', 'egg']\"}]"
      ]
     },
     "execution_count": 8,
     "metadata": {},
     "output_type": "execute_result"
    }
   ],
   "source": [
    "messages"
   ]
  },
  {
   "cell_type": "code",
   "execution_count": 10,
   "metadata": {},
   "outputs": [],
   "source": [
    "completion = client.chat.completions.create(\n",
    "    model=\"gpt-4o-mini\",\n",
    "    messages=messages\n",
    ")\n",
    "\n",
    "completion_message = completion.choices[0].message"
   ]
  },
  {
   "cell_type": "code",
   "execution_count": 14,
   "metadata": {},
   "outputs": [
    {
     "name": "stdout",
     "output_type": "stream",
     "text": [
      "Here are two recipes you can make using the ingredients from your list:\n",
      "\n",
      "### Recipe 1: Cinnamon Apple Cake\n",
      "\n",
      "**Ingredients:**\n",
      "- 3 cups chopped apples\n",
      "- 1 cup sugar\n",
      "- 1/2 cup brown sugar\n",
      "- 2 cups flour\n",
      "- 1 teaspoon cinnamon\n",
      "- 1/4 teaspoon nutmeg\n",
      "- 1/4 cup lemon juice\n",
      "- 1 egg\n",
      "\n",
      "**Instructions:**\n",
      "1. Preheat your oven to 350°F (175°C).\n",
      "2. In a large mixing bowl, combine the chopped apples, sugar, brown sugar, flour, cinnamon, and nutmeg.\n",
      "3. In a separate bowl, whisk together the lemon juice and egg. Add this mixture to the dry ingredients and stir until just combined.\n",
      "4. Pour the batter into a greased baking dish.\n",
      "5. Bake for 40-45 minutes or until the cake is golden brown and a toothpick comes out clean.\n",
      "6. Let cool before serving.\n",
      "\n",
      "---\n",
      "\n",
      "### Recipe 2: Apple Cinnamon Pancakes\n",
      "\n",
      "**Ingredients:**\n",
      "- 1 cup flour\n",
      "- 1 tablespoon sugar\n",
      "- 1 teaspoon brown sugar\n",
      "- 1 teaspoon cinnamon\n",
      "- 1/4 teaspoon nutmeg\n",
      "- 1/2 cup chopped apples\n",
      "- 1 cup water (or milk, if available)\n",
      "- 1 egg\n",
      "- 1 tablespoon lemon juice\n",
      "\n",
      "**Instructions:**\n",
      "1. In a large bowl, mix together the flour, sugar, brown sugar, cinnamon, and nutmeg.\n",
      "2. In another bowl, whisk together the egg, water (or milk), and lemon juice.\n",
      "3. Combine the wet and dry ingredients, mixing until just combined. Fold in the chopped apples.\n",
      "4. Heat a non-stick skillet over medium heat and lightly grease it.\n",
      "5. Pour 1/4 cup of batter onto the skillet for each pancake. Cook until bubbles form on the surface, then flip and cook until golden brown.\n",
      "6. Serve warm with additional apples or syrup, if desired.\n",
      "\n",
      "Enjoy your cooking!\n"
     ]
    }
   ],
   "source": [
    "print(completion_message.content)"
   ]
  },
  {
   "cell_type": "code",
   "execution_count": null,
   "metadata": {},
   "outputs": [],
   "source": []
  }
 ],
 "metadata": {
  "kernelspec": {
   "display_name": ".venv",
   "language": "python",
   "name": "python3"
  },
  "language_info": {
   "codemirror_mode": {
    "name": "ipython",
    "version": 3
   },
   "file_extension": ".py",
   "mimetype": "text/x-python",
   "name": "python",
   "nbconvert_exporter": "python",
   "pygments_lexer": "ipython3",
   "version": "3.9.6"
  }
 },
 "nbformat": 4,
 "nbformat_minor": 2
}
