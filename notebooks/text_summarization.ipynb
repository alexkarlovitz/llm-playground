{
 "cells": [
  {
   "cell_type": "markdown",
   "metadata": {},
   "source": [
    "# Text Summarization\n",
    "\n",
    "This notebook showcases multiple methods for text summarization using LLMs.\n",
    "- Stuff: simply \"stuffing\" the whole document into a prompt\n",
    "- Iterative Refinement: split document into a sequence of chunks and summarize iteratively adding one piece at a time"
   ]
  },
  {
   "cell_type": "code",
   "execution_count": 1,
   "metadata": {},
   "outputs": [],
   "source": [
    "import getpass\n",
    "import os\n",
    "\n",
    "if not os.environ.get(\"OPENAI_API_KEY\"):\n",
    "  os.environ[\"OPENAI_API_KEY\"] = getpass.getpass(\"Enter API key for OpenAI: \")\n",
    "\n",
    "from openai import OpenAI"
   ]
  },
  {
   "cell_type": "code",
   "execution_count": 3,
   "metadata": {},
   "outputs": [],
   "source": [
    "client = OpenAI()"
   ]
  },
  {
   "cell_type": "markdown",
   "metadata": {},
   "source": [
    "## Stuff Method\n",
    "\n",
    "This is the simplest method of summarization, which simply includes the entire text of the document to be summarized within the prompt. This only works if the document is short enough to fit in the selected model's context window."
   ]
  },
  {
   "cell_type": "code",
   "execution_count": 8,
   "metadata": {},
   "outputs": [],
   "source": [
    "def stuff_summary_prompt(info_file) :\n",
    "    '''Load info_file and add to summarization prompt.'''\n",
    "\n",
    "    # read input file\n",
    "    with open(info_file, 'r') as f :\n",
    "        lines = f.readlines()\n",
    "    info = [line.strip() for line in lines]\n",
    "\n",
    "    prompt = f\"Write a detailed summary of the following:\\\\n\\\\n{info}\"\n",
    "\n",
    "    messages = [\n",
    "        {\n",
    "            \"role\": \"user\",\n",
    "            \"content\": prompt\n",
    "        }\n",
    "    ]\n",
    "    \n",
    "    return messages"
   ]
  },
  {
   "cell_type": "markdown",
   "metadata": {},
   "source": [
    "Asking for a summary of the US Constitution gives a strong response!"
   ]
  },
  {
   "cell_type": "code",
   "execution_count": 10,
   "metadata": {},
   "outputs": [
    {
     "name": "stdout",
     "output_type": "stream",
     "text": [
      "The Constitution of the United States is the supreme law of the land, established on September 17, 1787, to form a more perfect union among the states. Its preamble outlines its purposes, namely to establish justice, ensure domestic tranquility, provide for national defense, promote general welfare, and secure liberty for current and future generations.\n",
      "\n",
      "**Article I** grants all legislative powers to a bicameral Congress, composed of the Senate and the House of Representatives. Key provisions include the direct election of Representatives every two years, eligibility criteria for Members of the House and Senate, the apportionment of Representatives, and the powers and responsibilities of both chambers, including the initiation of revenue bills and the conduct of impeachment.\n",
      "\n",
      "**Article II** establishes the executive branch, headed by the President, who is elected for a four-year term alongside the Vice President. It delineates their powers, including being the commander in chief of the armed forces, the authority to make treaties (with Senate approval), and the responsibility to ensure laws are executed.\n",
      "\n",
      "**Article III** outlines the judiciary, vesting judicial powers in a supreme court and inferior courts as authorized by Congress. It provides for the duration of judicial appointments and establishes jurisdiction over various legal matters and cases of treason.\n",
      "\n",
      "**Article IV** addresses the relationship between states, ensuring that states respect one another's laws and citizen privileges, and providing a framework for admitting new states and protecting them against invasion and domestic violence.\n",
      "\n",
      "**Article V** outlines the process for amending the Constitution, requiring a two-thirds majority in Congress or a convention called by two-thirds of the states, and the subsequent ratification by three-fourths of the states.\n",
      "\n",
      "**Article VI** asserts the supremacy of the Constitution over state laws, mandates oaths of office for officials, and prohibits religious tests for public office.\n",
      "\n",
      "**Article VII** specifies that the Constitution shall be ratified by nine states to take effect.\n",
      "\n",
      "The **Bill of Rights**, comprising the first ten amendments ratified on December 15, 1791, guarantees individual freedoms such as freedom of religion, speech, assembly, the right to bear arms, protection from unreasonable searches and seizures, and rights of the accused, among others.\n",
      "\n",
      "Subsequent amendments (up to the 27th) introduce significant changes:\n",
      "- **Amendments 11-27** include provisions such as the abolition of slavery (13th), granting women the right to vote (19th), prohibiting poll taxes in federal elections (24th), and establishing procedures for presidential succession (25th). Stabilizing income tax (16th) and addressing congressional pay increases (27th) are also part of these amendments.\n",
      "\n",
      "The constitutional framework has evolved over time through amendments, reflecting the changing societal values and norms of the United States. The Constitution continues to serve as a foundational document for governance, balancing power among branches while protecting individual rights.\n"
     ]
    }
   ],
   "source": [
    "# get messages\n",
    "usconst_file = '../data/us_constitution.txt'\n",
    "messages = stuff_summary_prompt(usconst_file)\n",
    "\n",
    "# send prompt to LLM\n",
    "completion = client.chat.completions.create(\n",
    "    model=\"gpt-4o-mini\",\n",
    "    messages=messages\n",
    ")\n",
    "completion_message = completion.choices[0].message\n",
    "\n",
    "print(completion_message.content)"
   ]
  },
  {
   "cell_type": "markdown",
   "metadata": {},
   "source": [
    "Asking for a summary of a full novel results in an error. It's too long!"
   ]
  },
  {
   "cell_type": "code",
   "execution_count": 13,
   "metadata": {},
   "outputs": [
    {
     "name": "stdout",
     "output_type": "stream",
     "text": [
      "Error code: 429 - {'error': {'message': 'Request too large for gpt-4o-mini in organization org-O3XtokNjayTiOvXFMHAw1nS1 on tokens per min (TPM): Limit 200000, Requested 252930. The input or output tokens must be reduced in order to run successfully. Visit https://platform.openai.com/account/rate-limits to learn more.', 'type': 'tokens', 'param': None, 'code': 'rate_limit_exceeded'}}\n"
     ]
    }
   ],
   "source": [
    "# get messages\n",
    "fotr_file = '../data/LotR/FotR.txt'\n",
    "messages = stuff_summary_prompt(fotr_file)\n",
    "\n",
    "# send prompt to LLM\n",
    "try :\n",
    "    completion = client.chat.completions.create(\n",
    "        model=\"gpt-4o-mini\",\n",
    "        messages=messages\n",
    "    )\n",
    "    completion_message = completion.choices[0].message\n",
    "\n",
    "    print(completion_message.content)\n",
    "except Exception as e :\n",
    "    print(e)"
   ]
  },
  {
   "cell_type": "markdown",
   "metadata": {},
   "source": [
    "## Iterative Refinement\n",
    "\n",
    "### TO DO"
   ]
  },
  {
   "cell_type": "code",
   "execution_count": null,
   "metadata": {},
   "outputs": [],
   "source": []
  }
 ],
 "metadata": {
  "kernelspec": {
   "display_name": ".venv",
   "language": "python",
   "name": "python3"
  },
  "language_info": {
   "codemirror_mode": {
    "name": "ipython",
    "version": 3
   },
   "file_extension": ".py",
   "mimetype": "text/x-python",
   "name": "python",
   "nbconvert_exporter": "python",
   "pygments_lexer": "ipython3",
   "version": "3.11.9"
  }
 },
 "nbformat": 4,
 "nbformat_minor": 2
}
